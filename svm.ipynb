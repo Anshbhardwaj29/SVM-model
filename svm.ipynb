{
  "nbformat": 4,
  "nbformat_minor": 0,
  "metadata": {
    "colab": {
      "provenance": []
    },
    "kernelspec": {
      "name": "python3",
      "display_name": "Python 3"
    },
    "language_info": {
      "name": "python"
    }
  },
  "cells": [
    {
      "cell_type": "code",
      "execution_count": 6,
      "metadata": {
        "id": "XtgIPiBqTJBr"
      },
      "outputs": [],
      "source": [
        "#GENRATING A SAMPLE DATASET USING SKLEARN\n",
        "from sklearn.datasets import make_blobs\n"
      ]
    },
    {
      "cell_type": "code",
      "source": [],
      "metadata": {
        "id": "sIYqsGlAUSc2"
      },
      "execution_count": 6,
      "outputs": []
    },
    {
      "cell_type": "code",
      "source": [
        "X,y = make_blobs(n_samples=30,centers=2,n_features=2,random_state=6)"
      ],
      "metadata": {
        "id": "3-D3EMh-Tt2c"
      },
      "execution_count": 43,
      "outputs": []
    },
    {
      "cell_type": "code",
      "source": [
        "X"
      ],
      "metadata": {
        "colab": {
          "base_uri": "https://localhost:8080/"
        },
        "id": "lHFEXqtfUbDV",
        "outputId": "e8a9fa29-46be-4caf-b4fc-f79e99a7e84d"
      },
      "execution_count": 44,
      "outputs": [
        {
          "output_type": "execute_result",
          "data": {
            "text/plain": [
              "array([[  7.52132141,  -2.12266605],\n",
              "       [  7.28183008,  -8.2229685 ],\n",
              "       [  7.64306311, -10.02356892],\n",
              "       [  5.86311158, -10.19958738],\n",
              "       [  9.49649411,  -3.7902975 ],\n",
              "       [  8.68185687,  -4.53683537],\n",
              "       [  7.9683312 ,  -3.23125265],\n",
              "       [  7.80961769,  -9.68569457],\n",
              "       [  6.5390239 ,  -9.18802417],\n",
              "       [  8.98426675,  -4.87449712],\n",
              "       [  8.21201164,  -1.54781358],\n",
              "       [  7.92736799,  -9.7615272 ],\n",
              "       [  6.50072722,  -3.82403586],\n",
              "       [  8.07502382,  -4.25949569],\n",
              "       [  5.95313618,  -6.82945967],\n",
              "       [  5.64443032,  -8.21045789],\n",
              "       [  7.67619643,  -2.82620437],\n",
              "       [  8.49142837,  -2.54974889],\n",
              "       [  5.95907415,  -8.93235689],\n",
              "       [ 10.48848359,  -2.75858164],\n",
              "       [  7.93333064,  -3.51553205],\n",
              "       [  4.29743791, -10.00047495],\n",
              "       [  6.78335342,  -8.09238614],\n",
              "       [  5.37042238,  -2.44715237],\n",
              "       [  6.04907774,  -8.76969991],\n",
              "       [  9.42169269,  -2.6476988 ],\n",
              "       [  6.29784608, -10.53468031],\n",
              "       [  6.95292352,  -8.22624269],\n",
              "       [  6.85086785,  -9.92422452],\n",
              "       [  7.27059007,  -4.84225716]])"
            ]
          },
          "metadata": {},
          "execution_count": 44
        }
      ]
    },
    {
      "cell_type": "code",
      "source": [
        "y"
      ],
      "metadata": {
        "colab": {
          "base_uri": "https://localhost:8080/"
        },
        "id": "hHETAAv1Ub9s",
        "outputId": "934ff5f3-03e8-40eb-9a52-8d3fe89acd81"
      },
      "execution_count": 45,
      "outputs": [
        {
          "output_type": "execute_result",
          "data": {
            "text/plain": [
              "array([0, 1, 1, 1, 0, 0, 0, 1, 1, 0, 0, 1, 0, 0, 1, 1, 0, 0, 1, 0, 0, 1,\n",
              "       1, 0, 1, 0, 1, 1, 1, 0])"
            ]
          },
          "metadata": {},
          "execution_count": 45
        }
      ]
    },
    {
      "cell_type": "code",
      "source": [
        "import matplotlib.pyplot as plt\n",
        "\n",
        "# Scatter plot\n",
        "plt.scatter(X[:,0], X[:,1], c=y)\n",
        "\n",
        "# Add horizontal and vertical lines at y=0 and x=0\n",
        "plt.axhline(0, color='black', linewidth=0.8)\n",
        "plt.axvline(0, color='black', linewidth=0.8)\n",
        "\n",
        "# Show the plot\n",
        "plt.show()\n"
      ],
      "metadata": {
        "colab": {
          "base_uri": "https://localhost:8080/",
          "height": 430
        },
        "id": "6T-cP798UfcD",
        "outputId": "dcac489b-2d54-417e-b387-bea2cb3e3dd8"
      },
      "execution_count": 51,
      "outputs": [
        {
          "output_type": "display_data",
          "data": {
            "text/plain": [
              "<Figure size 640x480 with 1 Axes>"
            ],
            "image/png": "[encoded data removed]"
          },
          "metadata": {}
        }
      ]
    },
    {
      "cell_type": "code",
      "source": [
        "from sklearn.svm import SVC\n",
        "\n",
        "# Create a Support Vector Classifier model with a linear kernel\n",
        "model = SVC(kernel='linear')\n",
        "\n",
        "# Fit the model to the data\n",
        "model.fit(X, y)\n"
      ],
      "metadata": {
        "colab": {
          "base_uri": "https://localhost:8080/",
          "height": 75
        },
        "id": "k_Vi_r1UVbC2",
        "outputId": "7df88899-752c-4ea5-d378-b305a5c63fcf"
      },
      "execution_count": 30,
      "outputs": [
        {
          "output_type": "execute_result",
          "data": {
            "text/plain": [
              "SVC(kernel='linear')"
            ],
            "text/html": [
              "<style>#sk-container-id-1 {color: black;}#sk-container-id-1 pre{padding: 0;}#sk-container-id-1 div.sk-toggleable {background-color: white;}#sk-container-id-1 label.sk-toggleable__label {cursor: pointer;display: block;width: 100%;margin-bottom: 0;padding: 0.3em;box-sizing: border-box;text-align: center;}#sk-container-id-1 label.sk-toggleable__label-arrow:before {content: \"▸\";float: left;margin-right: 0.25em;color: #696969;}#sk-container-id-1 label.sk-toggleable__label-arrow:hover:before {color: black;}#sk-container-id-1 div.sk-estimator:hover label.sk-toggleable__label-arrow:before {color: black;}#sk-container-id-1 div.sk-toggleable__content {max-height: 0;max-width: 0;overflow: hidden;text-align: left;background-color: #f0f8ff;}#sk-container-id-1 div.sk-toggleable__content pre {margin: 0.2em;color: black;border-radius: 0.25em;background-color: #f0f8ff;}#sk-container-id-1 input.sk-toggleable__control:checked~div.sk-toggleable__content {max-height: 200px;max-width: 100%;overflow: auto;}#sk-container-id-1 input.sk-toggleable__control:checked~label.sk-toggleable__label-arrow:before {content: \"▾\";}#sk-container-id-1 div.sk-estimator input.sk-toggleable__control:checked~label.sk-toggleable__label {background-color: #d4ebff;}#sk-container-id-1 div.sk-label input.sk-toggleable__control:checked~label.sk-toggleable__label {background-color: #d4ebff;}#sk-container-id-1 input.sk-hidden--visually {border: 0;clip: rect(1px 1px 1px 1px);clip: rect(1px, 1px, 1px, 1px);height: 1px;margin: -1px;overflow: hidden;padding: 0;position: absolute;width: 1px;}#sk-container-id-1 div.sk-estimator {font-family: monospace;background-color: #f0f8ff;border: 1px dotted black;border-radius: 0.25em;box-sizing: border-box;margin-bottom: 0.5em;}#sk-container-id-1 div.sk-estimator:hover {background-color: #d4ebff;}#sk-container-id-1 div.sk-parallel-item::after {content: \"\";width: 100%;border-bottom: 1px solid gray;flex-grow: 1;}#sk-container-id-1 div.sk-label:hover label.sk-toggleable__label {background-color: #d4ebff;}#sk-container-id-1 div.sk-serial::before {content: \"\";position: absolute;border-left: 1px solid gray;box-sizing: border-box;top: 0;bottom: 0;left: 50%;z-index: 0;}#sk-container-id-1 div.sk-serial {display: flex;flex-direction: column;align-items: center;background-color: white;padding-right: 0.2em;padding-left: 0.2em;position: relative;}#sk-container-id-1 div.sk-item {position: relative;z-index: 1;}#sk-container-id-1 div.sk-parallel {display: flex;align-items: stretch;justify-content: center;background-color: white;position: relative;}#sk-container-id-1 div.sk-item::before, #sk-container-id-1 div.sk-parallel-item::before {content: \"\";position: absolute;border-left: 1px solid gray;box-sizing: border-box;top: 0;bottom: 0;left: 50%;z-index: -1;}#sk-container-id-1 div.sk-parallel-item {display: flex;flex-direction: column;z-index: 1;position: relative;background-color: white;}#sk-container-id-1 div.sk-parallel-item:first-child::after {align-self: flex-end;width: 50%;}#sk-container-id-1 div.sk-parallel-item:last-child::after {align-self: flex-start;width: 50%;}#sk-container-id-1 div.sk-parallel-item:only-child::after {width: 0;}#sk-container-id-1 div.sk-dashed-wrapped {border: 1px dashed gray;margin: 0 0.4em 0.5em 0.4em;box-sizing: border-box;padding-bottom: 0.4em;background-color: white;}#sk-container-id-1 div.sk-label label {font-family: monospace;font-weight: bold;display: inline-block;line-height: 1.2em;}#sk-container-id-1 div.sk-label-container {text-align: center;}#sk-container-id-1 div.sk-container {/* jupyter's `normalize.less` sets `[hidden] { display: none; }` but bootstrap.min.css set `[hidden] { display: none !important; }` so we also need the `!important` here to be able to override the default hidden behavior on the sphinx rendered scikit-learn.org. See: https://github.com/scikit-learn/scikit-learn/issues/21755 */display: inline-block !important;position: relative;}#sk-container-id-1 div.sk-text-repr-fallback {display: none;}</style><div id=\"sk-container-id-1\" class=\"sk-top-container\"><div class=\"sk-text-repr-fallback\"><pre>SVC(kernel=&#x27;linear&#x27;)</pre><b>In a Jupyter environment, please rerun this cell to show the HTML representation or trust the notebook. <br />On GitHub, the HTML representation is unable to render, please try loading this page with nbviewer.org.</b></div><div class=\"sk-container\" hidden><div class=\"sk-item\"><div class=\"sk-estimator sk-toggleable\"><input class=\"sk-toggleable__control sk-hidden--visually\" id=\"sk-estimator-id-1\" type=\"checkbox\" checked><label for=\"sk-estimator-id-1\" class=\"sk-toggleable__label sk-toggleable__label-arrow\">SVC</label><div class=\"sk-toggleable__content\"><pre>SVC(kernel=&#x27;linear&#x27;)</pre></div></div></div></div></div>"
            ]
          },
          "metadata": {},
          "execution_count": 30
        }
      ]
    },
    {
      "cell_type": "code",
      "source": [
        "model.coef_"
      ],
      "metadata": {
        "colab": {
          "base_uri": "https://localhost:8080/"
        },
        "id": "4KOXGDayXGNe",
        "outputId": "7c85312d-05f7-4e40-b1bf-3b7c627196af"
      },
      "execution_count": 31,
      "outputs": [
        {
          "output_type": "execute_result",
          "data": {
            "text/plain": [
              "array([[-0.1610782 , -0.45644614]])"
            ]
          },
          "metadata": {},
          "execution_count": 31
        }
      ]
    },
    {
      "cell_type": "code",
      "source": [
        "model.intercept_"
      ],
      "metadata": {
        "colab": {
          "base_uri": "https://localhost:8080/"
        },
        "id": "AEk_ZSO3Xi4r",
        "outputId": "dec645c4-cf0f-4719-8d8f-5127cf00d709"
      },
      "execution_count": 32,
      "outputs": [
        {
          "output_type": "execute_result",
          "data": {
            "text/plain": [
              "array([-1.65365818])"
            ]
          },
          "metadata": {},
          "execution_count": 32
        }
      ]
    },
    {
      "cell_type": "code",
      "source": [
        "#y = m1x1+m2x2+c\n",
        "#y = -0.1610782*x1+-0.45644614*x2-1.65365818\n",
        "y1 = -0.1610782*7.68926222+(-0.45644614*-2.74153497)-1.65365818\n",
        "y1\n",
        "\n"
      ],
      "metadata": {
        "colab": {
          "base_uri": "https://localhost:8080/"
        },
        "id": "8rUXWl6uXlDw",
        "outputId": "3d363778-c0c2-4fe3-ccf8-1507d409eb76"
      },
      "execution_count": 37,
      "outputs": [
        {
          "output_type": "execute_result",
          "data": {
            "text/plain": [
              "-1.6408676429940883"
            ]
          },
          "metadata": {},
          "execution_count": 37
        }
      ]
    },
    {
      "cell_type": "code",
      "source": [
        "X[0]"
      ],
      "metadata": {
        "colab": {
          "base_uri": "https://localhost:8080/"
        },
        "id": "Il5aG6QEXyo_",
        "outputId": "6aef7f21-c81f-488e-eaa1-47a75292bce1"
      },
      "execution_count": 34,
      "outputs": [
        {
          "output_type": "execute_result",
          "data": {
            "text/plain": [
              "array([ 7.68926222, -2.74153497])"
            ]
          },
          "metadata": {},
          "execution_count": 34
        }
      ]
    },
    {
      "cell_type": "code",
      "source": [
        "model.decision_function([X[0]])"
      ],
      "metadata": {
        "colab": {
          "base_uri": "https://localhost:8080/"
        },
        "id": "8GxtE3GZYgb8",
        "outputId": "2cb69a61-5663-4e9c-e49a-8c41c5c993b4"
      },
      "execution_count": 39,
      "outputs": [
        {
          "output_type": "execute_result",
          "data": {
            "text/plain": [
              "array([-1.64086767])"
            ]
          },
          "metadata": {},
          "execution_count": 39
        }
      ]
    },
    {
      "cell_type": "code",
      "source": [
        "model.decision_function(X)"
      ],
      "metadata": {
        "colab": {
          "base_uri": "https://localhost:8080/"
        },
        "id": "HNskz8onZWIh",
        "outputId": "122d9367-f6a4-4f4f-f060-ab1258d9d05d"
      },
      "execution_count": 40,
      "outputs": [
        {
          "output_type": "execute_result",
          "data": {
            "text/plain": [
              "array([-1.64086767,  1.21101887,  1.59286404,  1.77639121, -1.41935433,\n",
              "       -1.18336701, -1.4238644 ,  1.50233916,  1.49109178, -1.13066063,\n",
              "       -1.82768984,  1.51016242, -1.17037809, -1.19778854,  0.99999981,\n",
              "        1.34003836, -1.49277749, -1.62152906,  1.47945124, -1.73470964,\n",
              "       -1.35616637,  1.85704712,  1.22136382, -1.39358093,  1.43508036,\n",
              "       -1.67409728,  1.81785402,  1.23825595,  1.63399405, -1.00000055])"
            ]
          },
          "metadata": {},
          "execution_count": 40
        }
      ]
    },
    {
      "cell_type": "code",
      "source": [
        "model.support_vectors_"
      ],
      "metadata": {
        "colab": {
          "base_uri": "https://localhost:8080/"
        },
        "id": "IOhSP-ZwbBPT",
        "outputId": "05550599-a0fe-4074-8f87-5d4b493c992d"
      },
      "execution_count": 41,
      "outputs": [
        {
          "output_type": "execute_result",
          "data": {
            "text/plain": [
              "array([[ 7.56389655, -4.10133053],\n",
              "       [ 6.18885932, -7.99776358]])"
            ]
          },
          "metadata": {},
          "execution_count": 41
        }
      ]
    },
    {
      "cell_type": "code",
      "source": [
        "import numpy as np\n",
        "xin= np.arange(-1,10)\n",
        "yin = np.arange(-10,1)\n",
        "print(xin, yin)"
      ],
      "metadata": {
        "colab": {
          "base_uri": "https://localhost:8080/"
        },
        "id": "FjAhZCACZfGJ",
        "outputId": "b403460d-a8a0-4766-f0b0-f374ad0b5941"
      },
      "execution_count": 71,
      "outputs": [
        {
          "output_type": "stream",
          "name": "stdout",
          "text": [
            "[-1  0  1  2  3  4  5  6  7  8  9] [-10  -9  -8  -7  -6  -5  -4  -3  -2  -1   0]\n"
          ]
        }
      ]
    },
    {
      "cell_type": "code",
      "source": [
        "Yin,Xin = np.meshgrid(yin,xin)\n",
        "xy = np.vstack([Xin.ravel(),Yin.ravel()]).T\n",
        "p = model.decision_function(xy).reshape(Xin.shape)"
      ],
      "metadata": {
        "id": "c_qBKIwhbPHj"
      },
      "execution_count": 72,
      "outputs": []
    },
    {
      "cell_type": "code",
      "source": [
        "plt.contour(Xin,Yin,p,colors='k',levels=[-1,0,1],alpha=0.5,linestyles=['--','-','--'])\n",
        "plt.scatter(X[:,0],X[:,1],c=y)\n",
        "plt.scatter(model.support_vectors_[:,0],model.support_vectors_[:,1],s=100,linewidth=1,facecolors='none')\n",
        "plt.show()"
      ],
      "metadata": {
        "colab": {
          "base_uri": "https://localhost:8080/",
          "height": 435
        },
        "id": "qQ0R0itpPGpR",
        "outputId": "87915983-0546-415c-d2a1-a7dc1466008f"
      },
      "execution_count": 73,
      "outputs": [
        {
          "output_type": "display_data",
          "data": {
            "text/plain": [
              "<Figure size 640x480 with 1 Axes>"
            ],
            "image/png": "[encoded data removed]"
          },
          "metadata": {}
        }
      ]
    },
    {
      "cell_type": "code",
      "source": [],
      "metadata": {
        "id": "0-m1MnE0Tiit"
      },
      "execution_count": null,
      "outputs": []
    }
  ]
}